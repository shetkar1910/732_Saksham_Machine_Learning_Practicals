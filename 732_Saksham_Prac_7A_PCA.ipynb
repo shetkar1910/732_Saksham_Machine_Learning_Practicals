{
 "cells": [
  {
   "cell_type": "markdown",
   "id": "118799d8",
   "metadata": {},
   "source": [
    "**PCA**"
   ]
  },
  {
   "cell_type": "code",
   "execution_count": 15,
   "id": "e2171f8e",
   "metadata": {},
   "outputs": [],
   "source": [
    "import pandas as pd\n",
    "import numpy as np\n",
    "\n",
    "import warnings\n",
    "warnings.filterwarnings(\"ignore\")\n",
    "\n",
    "import seaborn as sns\n",
    "import matplotlib.pyplot as plt"
   ]
  },
  {
   "cell_type": "code",
   "execution_count": 16,
   "id": "0279a4ce",
   "metadata": {},
   "outputs": [],
   "source": [
    "dict = {\"x\":[20,25,30,35,40],\n",
    "       \"y\" :[20000, 25000, 30000, 35000, 40000]}\n",
    "\n",
    "df = pd.DataFrame(dict)"
   ]
  },
  {
   "cell_type": "code",
   "execution_count": 17,
   "id": "26a0bb52",
   "metadata": {},
   "outputs": [
    {
     "data": {
      "text/plain": [
       "x          62.5\n",
       "y    62500000.0\n",
       "dtype: float64"
      ]
     },
     "execution_count": 17,
     "metadata": {},
     "output_type": "execute_result"
    }
   ],
   "source": [
    "df.var()"
   ]
  },
  {
   "cell_type": "code",
   "execution_count": 18,
   "id": "15ff5ea5",
   "metadata": {},
   "outputs": [
    {
     "data": {
      "text/plain": [
       "<AxesSubplot:xlabel='x', ylabel='y'>"
      ]
     },
     "execution_count": 18,
     "metadata": {},
     "output_type": "execute_result"
    },
    {
     "data": {
      "image/png": "[encoded data removed]",
      "text/plain": [
       "<Figure size 432x288 with 1 Axes>"
      ]
     },
     "metadata": {
      "needs_background": "light"
     },
     "output_type": "display_data"
    }
   ],
   "source": [
    "sns.scatterplot(df['x'],df['y'])"
   ]
  },
  {
   "cell_type": "code",
   "execution_count": 19,
   "id": "bb36389f",
   "metadata": {},
   "outputs": [],
   "source": [
    "dict1 = {\"x\":[-1,0,1],\n",
    "       \"y\" :[1,0,-1]}\n",
    "\n",
    "df1 = pd.DataFrame(dict1)"
   ]
  },
  {
   "cell_type": "code",
   "execution_count": 20,
   "id": "33c7d8ef",
   "metadata": {},
   "outputs": [
    {
     "data": {
      "text/html": [
       "<div>\n",
       "<style scoped>\n",
       "    .dataframe tbody tr th:only-of-type {\n",
       "        vertical-align: middle;\n",
       "    }\n",
       "\n",
       "    .dataframe tbody tr th {\n",
       "        vertical-align: top;\n",
       "    }\n",
       "\n",
       "    .dataframe thead th {\n",
       "        text-align: right;\n",
       "    }\n",
       "</style>\n",
       "<table border=\"1\" class=\"dataframe\">\n",
       "  <thead>\n",
       "    <tr style=\"text-align: right;\">\n",
       "      <th></th>\n",
       "      <th>x</th>\n",
       "      <th>y</th>\n",
       "    </tr>\n",
       "  </thead>\n",
       "  <tbody>\n",
       "    <tr>\n",
       "      <th>0</th>\n",
       "      <td>-1</td>\n",
       "      <td>1</td>\n",
       "    </tr>\n",
       "    <tr>\n",
       "      <th>1</th>\n",
       "      <td>0</td>\n",
       "      <td>0</td>\n",
       "    </tr>\n",
       "    <tr>\n",
       "      <th>2</th>\n",
       "      <td>1</td>\n",
       "      <td>-1</td>\n",
       "    </tr>\n",
       "  </tbody>\n",
       "</table>\n",
       "</div>"
      ],
      "text/plain": [
       "   x  y\n",
       "0 -1  1\n",
       "1  0  0\n",
       "2  1 -1"
      ]
     },
     "execution_count": 20,
     "metadata": {},
     "output_type": "execute_result"
    }
   ],
   "source": [
    "df1"
   ]
  },
  {
   "cell_type": "code",
   "execution_count": null,
   "id": "f2fb0389",
   "metadata": {},
   "outputs": [],
   "source": []
  },
  {
   "cell_type": "code",
   "execution_count": 21,
   "id": "40c1c050",
   "metadata": {},
   "outputs": [
    {
     "data": {
      "text/html": [
       "<div>\n",
       "<style scoped>\n",
       "    .dataframe tbody tr th:only-of-type {\n",
       "        vertical-align: middle;\n",
       "    }\n",
       "\n",
       "    .dataframe tbody tr th {\n",
       "        vertical-align: top;\n",
       "    }\n",
       "\n",
       "    .dataframe thead th {\n",
       "        text-align: right;\n",
       "    }\n",
       "</style>\n",
       "<table border=\"1\" class=\"dataframe\">\n",
       "  <thead>\n",
       "    <tr style=\"text-align: right;\">\n",
       "      <th></th>\n",
       "      <th>x</th>\n",
       "      <th>y</th>\n",
       "    </tr>\n",
       "  </thead>\n",
       "  <tbody>\n",
       "    <tr>\n",
       "      <th>0</th>\n",
       "      <td>1</td>\n",
       "      <td>1</td>\n",
       "    </tr>\n",
       "    <tr>\n",
       "      <th>1</th>\n",
       "      <td>0</td>\n",
       "      <td>0</td>\n",
       "    </tr>\n",
       "    <tr>\n",
       "      <th>2</th>\n",
       "      <td>-1</td>\n",
       "      <td>-1</td>\n",
       "    </tr>\n",
       "  </tbody>\n",
       "</table>\n",
       "</div>"
      ],
      "text/plain": [
       "   x  y\n",
       "0  1  1\n",
       "1  0  0\n",
       "2 -1 -1"
      ]
     },
     "execution_count": 21,
     "metadata": {},
     "output_type": "execute_result"
    }
   ],
   "source": [
    "dict2 = {\"x\":[1,0,-1],\n",
    "       \"y\" :[1,0,-1]}\n",
    "\n",
    "df2 = pd.DataFrame(dict2)\n",
    "\n",
    "# df2.style.background_gradient()\n",
    "df2"
   ]
  },
  {
   "cell_type": "code",
   "execution_count": 22,
   "id": "85488f7c",
   "metadata": {},
   "outputs": [],
   "source": [
    "import seaborn as sns\n"
   ]
  },
  {
   "cell_type": "code",
   "execution_count": 38,
   "id": "4c9fe93b",
   "metadata": {},
   "outputs": [
    {
     "data": {
      "image/png": "[encoded data removed]",
      "text/plain": [
       "<Figure size 1080x360 with 2 Axes>"
      ]
     },
     "metadata": {
      "needs_background": "light"
     },
     "output_type": "display_data"
    }
   ],
   "source": [
    "import matplotlib.pyplot as plt\n",
    "plt.figure(figsize=(15,5))\n",
    "\n",
    "plt.subplot(1,2,1)\n",
    "plt.axhline(y = 0, color =\"green\", linestyle =\"--\")\n",
    "plt.axvline(color =\"green\", linestyle =\"--\")\n",
    "\n",
    "sns.scatterplot(df1['x'],df1['y'], color = \"red\")\n",
    "sns.lineplot(df1['x'],df1['y'], color = \"orange\")\n",
    "plt.grid()\n",
    "\n",
    "\n",
    "plt.subplot(1,2,2)\n",
    "plt.axhline(y = 0, color =\"green\", linestyle =\"--\")\n",
    "plt.axvline(color =\"green\", linestyle =\"--\")\n",
    "\n",
    "sns.scatterplot(df2['x'],df2['y'])\n",
    "sns.lineplot(df2['x'],df2['y'])\n",
    "plt.grid()\n",
    "\n",
    "plt.show()"
   ]
  },
  {
   "cell_type": "code",
   "execution_count": 24,
   "id": "d38a111d",
   "metadata": {},
   "outputs": [
    {
     "data": {
      "text/plain": [
       "x    1.0\n",
       "y    1.0\n",
       "dtype: float64"
      ]
     },
     "execution_count": 24,
     "metadata": {},
     "output_type": "execute_result"
    }
   ],
   "source": [
    "df1.var()"
   ]
  },
  {
   "cell_type": "code",
   "execution_count": 25,
   "id": "9f98a757",
   "metadata": {},
   "outputs": [
    {
     "data": {
      "text/plain": [
       "x    1.0\n",
       "y    1.0\n",
       "dtype: float64"
      ]
     },
     "execution_count": 25,
     "metadata": {},
     "output_type": "execute_result"
    }
   ],
   "source": [
    "df2.var()\n",
    "\n",
    "# var of df1 and df2 is same so will take covariance here."
   ]
  },
  {
   "cell_type": "code",
   "execution_count": 26,
   "id": "f76b19df",
   "metadata": {},
   "outputs": [
    {
     "data": {
      "text/plain": [
       "-1.0"
      ]
     },
     "execution_count": 26,
     "metadata": {},
     "output_type": "execute_result"
    }
   ],
   "source": [
    "df1['x'].cov(df1['y'])"
   ]
  },
  {
   "cell_type": "code",
   "execution_count": 27,
   "id": "0f97d530",
   "metadata": {},
   "outputs": [
    {
     "data": {
      "text/plain": [
       "1.0"
      ]
     },
     "execution_count": 27,
     "metadata": {},
     "output_type": "execute_result"
    }
   ],
   "source": [
    "df2['x'].cov(df2['y'])"
   ]
  },
  {
   "cell_type": "code",
   "execution_count": 29,
   "id": "d30e20cf",
   "metadata": {},
   "outputs": [
    {
     "data": {
      "text/html": [
       "<div>\n",
       "<style scoped>\n",
       "    .dataframe tbody tr th:only-of-type {\n",
       "        vertical-align: middle;\n",
       "    }\n",
       "\n",
       "    .dataframe tbody tr th {\n",
       "        vertical-align: top;\n",
       "    }\n",
       "\n",
       "    .dataframe thead th {\n",
       "        text-align: right;\n",
       "    }\n",
       "</style>\n",
       "<table border=\"1\" class=\"dataframe\">\n",
       "  <thead>\n",
       "    <tr style=\"text-align: right;\">\n",
       "      <th></th>\n",
       "      <th>x</th>\n",
       "      <th>y</th>\n",
       "    </tr>\n",
       "  </thead>\n",
       "  <tbody>\n",
       "    <tr>\n",
       "      <th>x</th>\n",
       "      <td>1.0</td>\n",
       "      <td>-1.0</td>\n",
       "    </tr>\n",
       "    <tr>\n",
       "      <th>y</th>\n",
       "      <td>-1.0</td>\n",
       "      <td>1.0</td>\n",
       "    </tr>\n",
       "  </tbody>\n",
       "</table>\n",
       "</div>"
      ],
      "text/plain": [
       "     x    y\n",
       "x  1.0 -1.0\n",
       "y -1.0  1.0"
      ]
     },
     "execution_count": 29,
     "metadata": {},
     "output_type": "execute_result"
    }
   ],
   "source": [
    "# covariance matrix\n",
    "\n",
    "df1.cov()"
   ]
  },
  {
   "cell_type": "code",
   "execution_count": 30,
   "id": "de8403cb",
   "metadata": {},
   "outputs": [
    {
     "data": {
      "text/html": [
       "<div>\n",
       "<style scoped>\n",
       "    .dataframe tbody tr th:only-of-type {\n",
       "        vertical-align: middle;\n",
       "    }\n",
       "\n",
       "    .dataframe tbody tr th {\n",
       "        vertical-align: top;\n",
       "    }\n",
       "\n",
       "    .dataframe thead th {\n",
       "        text-align: right;\n",
       "    }\n",
       "</style>\n",
       "<table border=\"1\" class=\"dataframe\">\n",
       "  <thead>\n",
       "    <tr style=\"text-align: right;\">\n",
       "      <th></th>\n",
       "      <th>x</th>\n",
       "      <th>y</th>\n",
       "    </tr>\n",
       "  </thead>\n",
       "  <tbody>\n",
       "    <tr>\n",
       "      <th>x</th>\n",
       "      <td>1.0</td>\n",
       "      <td>1.0</td>\n",
       "    </tr>\n",
       "    <tr>\n",
       "      <th>y</th>\n",
       "      <td>1.0</td>\n",
       "      <td>1.0</td>\n",
       "    </tr>\n",
       "  </tbody>\n",
       "</table>\n",
       "</div>"
      ],
      "text/plain": [
       "     x    y\n",
       "x  1.0  1.0\n",
       "y  1.0  1.0"
      ]
     },
     "execution_count": 30,
     "metadata": {},
     "output_type": "execute_result"
    }
   ],
   "source": [
    "df2.cov()"
   ]
  },
  {
   "cell_type": "code",
   "execution_count": null,
   "id": "60dbbecd",
   "metadata": {},
   "outputs": [],
   "source": [
    "!pip install tensorflow"
   ]
  },
  {
   "cell_type": "code",
   "execution_count": 40,
   "id": "5312cbf6",
   "metadata": {},
   "outputs": [],
   "source": [
    "import tensorflow as tf"
   ]
  },
  {
   "cell_type": "code",
   "execution_count": 49,
   "id": "f08170dd",
   "metadata": {},
   "outputs": [
    {
     "name": "stdout",
     "output_type": "stream",
     "text": [
      "tf.Tensor(\n",
      "[[1. 2. 3.]\n",
      " [4. 5. 6.]], shape=(2, 3), dtype=float16)\n"
     ]
    }
   ],
   "source": [
    "mat = tf.constant([1,2,3,4,5,6], shape=[2,3], dtype=tf.float16)\n",
    "print(mat)\n"
   ]
  },
  {
   "cell_type": "code",
   "execution_count": null,
   "id": "5e977b3d",
   "metadata": {},
   "outputs": [],
   "source": [
    "tf.matmul.linalg(a,b)"
   ]
  },
  {
   "cell_type": "code",
   "execution_count": 46,
   "id": "f740129c",
   "metadata": {},
   "outputs": [
    {
     "data": {
      "text/html": [
       "<style type=\"text/css\">\n",
       "#T_2be6d_row0_col0 {\n",
       "  background-color: #056dab;\n",
       "  color: #f1f1f1;\n",
       "}\n",
       "#T_2be6d_row0_col1 {\n",
       "  background-color: #0872b1;\n",
       "  color: #f1f1f1;\n",
       "}\n",
       "#T_2be6d_row1_col0, #T_2be6d_row1_col1 {\n",
       "  background-color: #fff7fb;\n",
       "  color: #000000;\n",
       "}\n",
       "#T_2be6d_row2_col0 {\n",
       "  background-color: #2a88bc;\n",
       "  color: #f1f1f1;\n",
       "}\n",
       "#T_2be6d_row2_col1 {\n",
       "  background-color: #03446a;\n",
       "  color: #f1f1f1;\n",
       "}\n",
       "#T_2be6d_row3_col0 {\n",
       "  background-color: #62a2cb;\n",
       "  color: #f1f1f1;\n",
       "}\n",
       "#T_2be6d_row3_col1 {\n",
       "  background-color: #2c89bd;\n",
       "  color: #f1f1f1;\n",
       "}\n",
       "#T_2be6d_row4_col0, #T_2be6d_row4_col1 {\n",
       "  background-color: #023858;\n",
       "  color: #f1f1f1;\n",
       "}\n",
       "#T_2be6d_row5_col0 {\n",
       "  background-color: #1b7eb7;\n",
       "  color: #f1f1f1;\n",
       "}\n",
       "#T_2be6d_row5_col1 {\n",
       "  background-color: #045b8e;\n",
       "  color: #f1f1f1;\n",
       "}\n",
       "#T_2be6d_row6_col0 {\n",
       "  background-color: #4e9ac6;\n",
       "  color: #f1f1f1;\n",
       "}\n",
       "#T_2be6d_row6_col1, #T_2be6d_row8_col1 {\n",
       "  background-color: #9fbad9;\n",
       "  color: #000000;\n",
       "}\n",
       "#T_2be6d_row7_col0 {\n",
       "  background-color: #dddbec;\n",
       "  color: #000000;\n",
       "}\n",
       "#T_2be6d_row7_col1 {\n",
       "  background-color: #e1dfed;\n",
       "  color: #000000;\n",
       "}\n",
       "#T_2be6d_row8_col0 {\n",
       "  background-color: #a2bcda;\n",
       "  color: #000000;\n",
       "}\n",
       "#T_2be6d_row9_col0 {\n",
       "  background-color: #d4d4e8;\n",
       "  color: #000000;\n",
       "}\n",
       "#T_2be6d_row9_col1 {\n",
       "  background-color: #f2ecf5;\n",
       "  color: #000000;\n",
       "}\n",
       "</style>\n",
       "<table id=\"T_2be6d\">\n",
       "  <thead>\n",
       "    <tr>\n",
       "      <th class=\"blank level0\" >&nbsp;</th>\n",
       "      <th id=\"T_2be6d_level0_col0\" class=\"col_heading level0 col0\" >x</th>\n",
       "      <th id=\"T_2be6d_level0_col1\" class=\"col_heading level0 col1\" >y</th>\n",
       "    </tr>\n",
       "  </thead>\n",
       "  <tbody>\n",
       "    <tr>\n",
       "      <th id=\"T_2be6d_level0_row0\" class=\"row_heading level0 row0\" >0</th>\n",
       "      <td id=\"T_2be6d_row0_col0\" class=\"data row0 col0\" >2.500000</td>\n",
       "      <td id=\"T_2be6d_row0_col1\" class=\"data row0 col1\" >2.400000</td>\n",
       "    </tr>\n",
       "    <tr>\n",
       "      <th id=\"T_2be6d_level0_row1\" class=\"row_heading level0 row1\" >1</th>\n",
       "      <td id=\"T_2be6d_row1_col0\" class=\"data row1 col0\" >0.500000</td>\n",
       "      <td id=\"T_2be6d_row1_col1\" class=\"data row1 col1\" >0.700000</td>\n",
       "    </tr>\n",
       "    <tr>\n",
       "      <th id=\"T_2be6d_level0_row2\" class=\"row_heading level0 row2\" >2</th>\n",
       "      <td id=\"T_2be6d_row2_col0\" class=\"data row2 col0\" >2.200000</td>\n",
       "      <td id=\"T_2be6d_row2_col1\" class=\"data row2 col1\" >2.900000</td>\n",
       "    </tr>\n",
       "    <tr>\n",
       "      <th id=\"T_2be6d_level0_row3\" class=\"row_heading level0 row3\" >3</th>\n",
       "      <td id=\"T_2be6d_row3_col0\" class=\"data row3 col0\" >1.900000</td>\n",
       "      <td id=\"T_2be6d_row3_col1\" class=\"data row3 col1\" >2.200000</td>\n",
       "    </tr>\n",
       "    <tr>\n",
       "      <th id=\"T_2be6d_level0_row4\" class=\"row_heading level0 row4\" >4</th>\n",
       "      <td id=\"T_2be6d_row4_col0\" class=\"data row4 col0\" >3.100000</td>\n",
       "      <td id=\"T_2be6d_row4_col1\" class=\"data row4 col1\" >3.000000</td>\n",
       "    </tr>\n",
       "    <tr>\n",
       "      <th id=\"T_2be6d_level0_row5\" class=\"row_heading level0 row5\" >5</th>\n",
       "      <td id=\"T_2be6d_row5_col0\" class=\"data row5 col0\" >2.300000</td>\n",
       "      <td id=\"T_2be6d_row5_col1\" class=\"data row5 col1\" >2.700000</td>\n",
       "    </tr>\n",
       "    <tr>\n",
       "      <th id=\"T_2be6d_level0_row6\" class=\"row_heading level0 row6\" >6</th>\n",
       "      <td id=\"T_2be6d_row6_col0\" class=\"data row6 col0\" >2.000000</td>\n",
       "      <td id=\"T_2be6d_row6_col1\" class=\"data row6 col1\" >1.600000</td>\n",
       "    </tr>\n",
       "    <tr>\n",
       "      <th id=\"T_2be6d_level0_row7\" class=\"row_heading level0 row7\" >7</th>\n",
       "      <td id=\"T_2be6d_row7_col0\" class=\"data row7 col0\" >1.000000</td>\n",
       "      <td id=\"T_2be6d_row7_col1\" class=\"data row7 col1\" >1.100000</td>\n",
       "    </tr>\n",
       "    <tr>\n",
       "      <th id=\"T_2be6d_level0_row8\" class=\"row_heading level0 row8\" >8</th>\n",
       "      <td id=\"T_2be6d_row8_col0\" class=\"data row8 col0\" >1.500000</td>\n",
       "      <td id=\"T_2be6d_row8_col1\" class=\"data row8 col1\" >1.600000</td>\n",
       "    </tr>\n",
       "    <tr>\n",
       "      <th id=\"T_2be6d_level0_row9\" class=\"row_heading level0 row9\" >9</th>\n",
       "      <td id=\"T_2be6d_row9_col0\" class=\"data row9 col0\" >1.100000</td>\n",
       "      <td id=\"T_2be6d_row9_col1\" class=\"data row9 col1\" >0.900000</td>\n",
       "    </tr>\n",
       "  </tbody>\n",
       "</table>\n"
      ],
      "text/plain": [
       "<pandas.io.formats.style.Styler at 0x22baec2c070>"
      ]
     },
     "execution_count": 46,
     "metadata": {},
     "output_type": "execute_result"
    }
   ],
   "source": [
    "excel = pd.read_excel(\"Dataset/raw_created.xlsx\")\n",
    "\n",
    "excel.style.background_gradient()"
   ]
  },
  {
   "cell_type": "code",
   "execution_count": 43,
   "id": "02e50399",
   "metadata": {},
   "outputs": [
    {
     "data": {
      "text/html": [
       "<div>\n",
       "<style scoped>\n",
       "    .dataframe tbody tr th:only-of-type {\n",
       "        vertical-align: middle;\n",
       "    }\n",
       "\n",
       "    .dataframe tbody tr th {\n",
       "        vertical-align: top;\n",
       "    }\n",
       "\n",
       "    .dataframe thead th {\n",
       "        text-align: right;\n",
       "    }\n",
       "</style>\n",
       "<table border=\"1\" class=\"dataframe\">\n",
       "  <thead>\n",
       "    <tr style=\"text-align: right;\">\n",
       "      <th></th>\n",
       "      <th>x</th>\n",
       "      <th>y</th>\n",
       "    </tr>\n",
       "  </thead>\n",
       "  <tbody>\n",
       "    <tr>\n",
       "      <th>x</th>\n",
       "      <td>0.616556</td>\n",
       "      <td>0.615444</td>\n",
       "    </tr>\n",
       "    <tr>\n",
       "      <th>y</th>\n",
       "      <td>0.615444</td>\n",
       "      <td>0.716556</td>\n",
       "    </tr>\n",
       "  </tbody>\n",
       "</table>\n",
       "</div>"
      ],
      "text/plain": [
       "          x         y\n",
       "x  0.616556  0.615444\n",
       "y  0.615444  0.716556"
      ]
     },
     "execution_count": 43,
     "metadata": {},
     "output_type": "execute_result"
    }
   ],
   "source": [
    "excel.cov()"
   ]
  },
  {
   "cell_type": "code",
   "execution_count": 45,
   "id": "4341a033",
   "metadata": {},
   "outputs": [
    {
     "data": {
      "text/html": [
       "<style type=\"text/css\">\n",
       "#T_29a3b_row0_col0, #T_29a3b_row0_col1 {\n",
       "  background-color: #023858;\n",
       "  color: #f1f1f1;\n",
       "}\n",
       "#T_29a3b_row1_col0 {\n",
       "  background-color: #e9e5f1;\n",
       "  color: #000000;\n",
       "}\n",
       "#T_29a3b_row1_col1, #T_29a3b_row5_col1 {\n",
       "  background-color: #ebe6f2;\n",
       "  color: #000000;\n",
       "}\n",
       "#T_29a3b_row2_col0 {\n",
       "  background-color: #fbf3f9;\n",
       "  color: #000000;\n",
       "}\n",
       "#T_29a3b_row2_col1 {\n",
       "  background-color: #fdf5fa;\n",
       "  color: #000000;\n",
       "}\n",
       "#T_29a3b_row3_col0, #T_29a3b_row3_col1 {\n",
       "  background-color: #fff7fb;\n",
       "  color: #000000;\n",
       "}\n",
       "#T_29a3b_row4_col0 {\n",
       "  background-color: #f4eef6;\n",
       "  color: #000000;\n",
       "}\n",
       "#T_29a3b_row4_col1 {\n",
       "  background-color: #f7f0f7;\n",
       "  color: #000000;\n",
       "}\n",
       "#T_29a3b_row5_col0 {\n",
       "  background-color: #e6e2ef;\n",
       "  color: #000000;\n",
       "}\n",
       "#T_29a3b_row6_col0 {\n",
       "  background-color: #dfddec;\n",
       "  color: #000000;\n",
       "}\n",
       "#T_29a3b_row6_col1 {\n",
       "  background-color: #dad9ea;\n",
       "  color: #000000;\n",
       "}\n",
       "#T_29a3b_row7_col0 {\n",
       "  background-color: #c8cde4;\n",
       "  color: #000000;\n",
       "}\n",
       "#T_29a3b_row7_col1 {\n",
       "  background-color: #d1d2e6;\n",
       "  color: #000000;\n",
       "}\n",
       "</style>\n",
       "<table id=\"T_29a3b\">\n",
       "  <thead>\n",
       "    <tr>\n",
       "      <th class=\"blank level0\" >&nbsp;</th>\n",
       "      <th id=\"T_29a3b_level0_col0\" class=\"col_heading level0 col0\" >x</th>\n",
       "      <th id=\"T_29a3b_level0_col1\" class=\"col_heading level0 col1\" >y</th>\n",
       "    </tr>\n",
       "  </thead>\n",
       "  <tbody>\n",
       "    <tr>\n",
       "      <th id=\"T_29a3b_level0_row0\" class=\"row_heading level0 row0\" >count</th>\n",
       "      <td id=\"T_29a3b_row0_col0\" class=\"data row0 col0\" >10.000000</td>\n",
       "      <td id=\"T_29a3b_row0_col1\" class=\"data row0 col1\" >10.000000</td>\n",
       "    </tr>\n",
       "    <tr>\n",
       "      <th id=\"T_29a3b_level0_row1\" class=\"row_heading level0 row1\" >mean</th>\n",
       "      <td id=\"T_29a3b_row1_col0\" class=\"data row1 col0\" >1.810000</td>\n",
       "      <td id=\"T_29a3b_row1_col1\" class=\"data row1 col1\" >1.910000</td>\n",
       "    </tr>\n",
       "    <tr>\n",
       "      <th id=\"T_29a3b_level0_row2\" class=\"row_heading level0 row2\" >std</th>\n",
       "      <td id=\"T_29a3b_row2_col0\" class=\"data row2 col0\" >0.785211</td>\n",
       "      <td id=\"T_29a3b_row2_col1\" class=\"data row2 col1\" >0.846496</td>\n",
       "    </tr>\n",
       "    <tr>\n",
       "      <th id=\"T_29a3b_level0_row3\" class=\"row_heading level0 row3\" >min</th>\n",
       "      <td id=\"T_29a3b_row3_col0\" class=\"data row3 col0\" >0.500000</td>\n",
       "      <td id=\"T_29a3b_row3_col1\" class=\"data row3 col1\" >0.700000</td>\n",
       "    </tr>\n",
       "    <tr>\n",
       "      <th id=\"T_29a3b_level0_row4\" class=\"row_heading level0 row4\" >25%</th>\n",
       "      <td id=\"T_29a3b_row4_col0\" class=\"data row4 col0\" >1.200000</td>\n",
       "      <td id=\"T_29a3b_row4_col1\" class=\"data row4 col1\" >1.225000</td>\n",
       "    </tr>\n",
       "    <tr>\n",
       "      <th id=\"T_29a3b_level0_row5\" class=\"row_heading level0 row5\" >50%</th>\n",
       "      <td id=\"T_29a3b_row5_col0\" class=\"data row5 col0\" >1.950000</td>\n",
       "      <td id=\"T_29a3b_row5_col1\" class=\"data row5 col1\" >1.900000</td>\n",
       "    </tr>\n",
       "    <tr>\n",
       "      <th id=\"T_29a3b_level0_row6\" class=\"row_heading level0 row6\" >75%</th>\n",
       "      <td id=\"T_29a3b_row6_col0\" class=\"data row6 col0\" >2.275000</td>\n",
       "      <td id=\"T_29a3b_row6_col1\" class=\"data row6 col1\" >2.625000</td>\n",
       "    </tr>\n",
       "    <tr>\n",
       "      <th id=\"T_29a3b_level0_row7\" class=\"row_heading level0 row7\" >max</th>\n",
       "      <td id=\"T_29a3b_row7_col0\" class=\"data row7 col0\" >3.100000</td>\n",
       "      <td id=\"T_29a3b_row7_col1\" class=\"data row7 col1\" >3.000000</td>\n",
       "    </tr>\n",
       "  </tbody>\n",
       "</table>\n"
      ],
      "text/plain": [
       "<pandas.io.formats.style.Styler at 0x22baec2c400>"
      ]
     },
     "execution_count": 45,
     "metadata": {},
     "output_type": "execute_result"
    }
   ],
   "source": [
    "excel.describe().style.background_gradient()"
   ]
  },
  {
   "cell_type": "code",
   "execution_count": null,
   "id": "e0610693",
   "metadata": {},
   "outputs": [],
   "source": []
  }
 ],
 "metadata": {
  "kernelspec": {
   "display_name": "Python 3 (ipykernel)",
   "language": "python",
   "name": "python3"
  },
  "language_info": {
   "codemirror_mode": {
    "name": "ipython",
    "version": 3
   },
   "file_extension": ".py",
   "mimetype": "text/x-python",
   "name": "python",
   "nbconvert_exporter": "python",
   "pygments_lexer": "ipython3",
   "version": "3.9.12"
  }
 },
 "nbformat": 4,
 "nbformat_minor": 5
}
