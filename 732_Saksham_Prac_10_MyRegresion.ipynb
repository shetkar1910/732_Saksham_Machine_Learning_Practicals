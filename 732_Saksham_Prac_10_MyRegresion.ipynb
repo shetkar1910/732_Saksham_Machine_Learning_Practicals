{
 "cells": [
  {
   "cell_type": "markdown",
   "id": "b5993207",
   "metadata": {},
   "source": [
    "**732_Saksham_Prac10**\n",
    "\n",
    "\n",
    "**Write a Python Program  for Simple Linear Regression and calculate slope and y-Intercept**"
   ]
  },
  {
   "cell_type": "code",
   "execution_count": 1,
   "id": "62b2d757",
   "metadata": {},
   "outputs": [],
   "source": [
    "import pandas as pd\n",
    "import numpy as np"
   ]
  },
  {
   "cell_type": "code",
   "execution_count": 2,
   "id": "4efeed88",
   "metadata": {},
   "outputs": [],
   "source": [
    "dt = {'Exp' : [1,2,3,4,5],\n",
    "     'Salary' : [2,5,3,8,7]}"
   ]
  },
  {
   "cell_type": "code",
   "execution_count": 3,
   "id": "8f741bf2",
   "metadata": {},
   "outputs": [
    {
     "data": {
      "text/html": [
       "<div>\n",
       "<style scoped>\n",
       "    .dataframe tbody tr th:only-of-type {\n",
       "        vertical-align: middle;\n",
       "    }\n",
       "\n",
       "    .dataframe tbody tr th {\n",
       "        vertical-align: top;\n",
       "    }\n",
       "\n",
       "    .dataframe thead th {\n",
       "        text-align: right;\n",
       "    }\n",
       "</style>\n",
       "<table border=\"1\" class=\"dataframe\">\n",
       "  <thead>\n",
       "    <tr style=\"text-align: right;\">\n",
       "      <th></th>\n",
       "      <th>Exp</th>\n",
       "      <th>Salary</th>\n",
       "    </tr>\n",
       "  </thead>\n",
       "  <tbody>\n",
       "    <tr>\n",
       "      <th>0</th>\n",
       "      <td>1</td>\n",
       "      <td>2</td>\n",
       "    </tr>\n",
       "    <tr>\n",
       "      <th>1</th>\n",
       "      <td>2</td>\n",
       "      <td>5</td>\n",
       "    </tr>\n",
       "    <tr>\n",
       "      <th>2</th>\n",
       "      <td>3</td>\n",
       "      <td>3</td>\n",
       "    </tr>\n",
       "    <tr>\n",
       "      <th>3</th>\n",
       "      <td>4</td>\n",
       "      <td>8</td>\n",
       "    </tr>\n",
       "    <tr>\n",
       "      <th>4</th>\n",
       "      <td>5</td>\n",
       "      <td>7</td>\n",
       "    </tr>\n",
       "  </tbody>\n",
       "</table>\n",
       "</div>"
      ],
      "text/plain": [
       "   Exp  Salary\n",
       "0    1       2\n",
       "1    2       5\n",
       "2    3       3\n",
       "3    4       8\n",
       "4    5       7"
      ]
     },
     "execution_count": 3,
     "metadata": {},
     "output_type": "execute_result"
    }
   ],
   "source": [
    "df = pd.DataFrame(dt)\n",
    "\n",
    "df"
   ]
  },
  {
   "cell_type": "code",
   "execution_count": 4,
   "id": "74d76c89",
   "metadata": {},
   "outputs": [
    {
     "data": {
      "text/plain": [
       "(5, 2)"
      ]
     },
     "execution_count": 4,
     "metadata": {},
     "output_type": "execute_result"
    }
   ],
   "source": [
    "df.shape"
   ]
  },
  {
   "cell_type": "code",
   "execution_count": 5,
   "id": "8c994044",
   "metadata": {},
   "outputs": [],
   "source": [
    "x = df[\"Exp\"]\n",
    "\n",
    "y = df['Salary']"
   ]
  },
  {
   "cell_type": "code",
   "execution_count": 6,
   "id": "3252c6ca",
   "metadata": {},
   "outputs": [],
   "source": [
    "class mySimpleLR:\n",
    "    def __init__(self):\n",
    "        self.m = None\n",
    "        self.b = None\n",
    "        \n",
    "    def fit(self,x_train,y_train):\n",
    "            numer = 0\n",
    "            denom = 0\n",
    "            \n",
    "            for i in range(x_train.shape[0]):\n",
    "                \n",
    "                numer = numer + ((x_train[i] - x_train.mean()) * (y_train[i] - y_train.mean()))\n",
    "                \n",
    "                denom = denom + (x_train[i] - x_train.mean())**2\n",
    "                \n",
    "            self.m = numer / denom\n",
    "            \n",
    "            self.b = y_train.mean() - (self.m * x_train.mean())\n",
    "            \n",
    "            print(self.m)\n",
    "            print(self.b)\n",
    "            \n",
    "    def predict(self, x_test):\n",
    "        return self.m * x_test + self.b\n",
    "    "
   ]
  },
  {
   "cell_type": "code",
   "execution_count": 7,
   "id": "6c5bf398",
   "metadata": {},
   "outputs": [],
   "source": [
    "lr = mySimpleLR()"
   ]
  },
  {
   "cell_type": "code",
   "execution_count": 8,
   "id": "ca47b2bd",
   "metadata": {},
   "outputs": [
    {
     "name": "stdout",
     "output_type": "stream",
     "text": [
      "1.3\n",
      "1.0999999999999996\n"
     ]
    }
   ],
   "source": [
    "lr.fit(df['Exp'],df['Salary'])"
   ]
  },
  {
   "cell_type": "code",
   "execution_count": 9,
   "id": "9b932989",
   "metadata": {},
   "outputs": [
    {
     "data": {
      "text/plain": [
       "8.9"
      ]
     },
     "execution_count": 9,
     "metadata": {},
     "output_type": "execute_result"
    }
   ],
   "source": [
    "# predict salary if Experiance is 6 yrs.\n",
    "\n",
    "lr.predict(6)"
   ]
  },
  {
   "cell_type": "code",
   "execution_count": 10,
   "id": "b8587dc9",
   "metadata": {},
   "outputs": [],
   "source": [
    "import matplotlib.pyplot as plt"
   ]
  },
  {
   "cell_type": "code",
   "execution_count": 11,
   "id": "4ec6f49f",
   "metadata": {},
   "outputs": [
    {
     "data": {
      "text/plain": [
       "[<matplotlib.lines.Line2D at 0x1b0a8b6f9d0>]"
      ]
     },
     "execution_count": 11,
     "metadata": {},
     "output_type": "execute_result"
    },
    {
     "data": {
      "image/png": "[encoded data removed]",
      "text/plain": [
       "<Figure size 432x288 with 1 Axes>"
      ]
     },
     "metadata": {
      "needs_background": "light"
     },
     "output_type": "display_data"
    }
   ],
   "source": [
    "plt.scatter(df['Exp'], df['Salary'])\n",
    "\n",
    "plt.plot(df['Exp'], lr.predict(df['Exp']), color = 'orange')"
   ]
  },
  {
   "cell_type": "code",
   "execution_count": null,
   "id": "e1030fc0",
   "metadata": {},
   "outputs": [],
   "source": []
  }
 ],
 "metadata": {
  "kernelspec": {
   "display_name": "Python 3 (ipykernel)",
   "language": "python",
   "name": "python3"
  },
  "language_info": {
   "codemirror_mode": {
    "name": "ipython",
    "version": 3
   },
   "file_extension": ".py",
   "mimetype": "text/x-python",
   "name": "python",
   "nbconvert_exporter": "python",
   "pygments_lexer": "ipython3",
   "version": "3.9.12"
  }
 },
 "nbformat": 4,
 "nbformat_minor": 5
}
